{
 "cells": [
  {
   "cell_type": "markdown",
   "metadata": {
    "toc": true
   },
   "source": [
    "<h1>Table of Contents<span class=\"tocSkip\"></span></h1>\n",
    "<div class=\"toc\"><ul class=\"toc-item\"><li><span><a href=\"#获取公钥，生成随机数\" data-toc-modified-id=\"获取公钥，生成随机数-1\"><span class=\"toc-item-num\">1&nbsp;&nbsp;</span>获取公钥，生成随机数</a></span></li><li><span><a href=\"#计算DA并求I\" data-toc-modified-id=\"计算DA并求I-2\"><span class=\"toc-item-num\">2&nbsp;&nbsp;</span>计算DA并求I</a></span></li><li><span><a href=\"#获取共用用户\" data-toc-modified-id=\"获取共用用户-3\"><span class=\"toc-item-num\">3&nbsp;&nbsp;</span>获取共用用户</a></span></li></ul></div>"
   ]
  },
  {
   "cell_type": "code",
   "execution_count": 1,
   "metadata": {
    "ExecuteTime": {
     "end_time": "2020-07-25T12:40:25.349048Z",
     "start_time": "2020-07-25T12:40:24.578460Z"
    }
   },
   "outputs": [],
   "source": [
    "import pandas as pd\n",
    "import numpy as np\n",
    "from Crypto.PublicKey import RSA\n",
    "import pandas as pd\n",
    "from Crypto.Hash import SHA256\n",
    "import time\n",
    "import pickle\n",
    "import math"
   ]
  },
  {
   "cell_type": "code",
   "execution_count": 2,
   "metadata": {
    "ExecuteTime": {
     "end_time": "2020-07-25T12:40:25.359989Z",
     "start_time": "2020-07-25T12:40:25.350993Z"
    }
   },
   "outputs": [],
   "source": [
    "def HASH(x):\n",
    "    x = int(x)\n",
    "    return int(SHA256.new(('{}'.format(x)).encode()).hexdigest(), 16)\n",
    "\n",
    "# return (g, x, y) a*x + b*y = gcd(x, y)\n",
    "def egcd(a, b):\n",
    "    if a == 0:\n",
    "        return (b, 0, 1)\n",
    "    else:\n",
    "        g, x, y = egcd(b % a, a)\n",
    "        return (g, y - (b // a) * x, x)"
   ]
  },
  {
   "cell_type": "markdown",
   "metadata": {},
   "source": [
    "# 获取公钥，生成随机数"
   ]
  },
  {
   "cell_type": "code",
   "execution_count": 3,
   "metadata": {
    "ExecuteTime": {
     "end_time": "2020-07-25T12:40:25.378978Z",
     "start_time": "2020-07-25T12:40:25.365986Z"
    }
   },
   "outputs": [],
   "source": [
    "xa = pd.read_csv('./data/xa.csv')\n",
    "xa = np.array(xa).T[0]"
   ]
  },
  {
   "cell_type": "code",
   "execution_count": 4,
   "metadata": {
    "ExecuteTime": {
     "end_time": "2020-07-25T12:40:25.458932Z",
     "start_time": "2020-07-25T12:40:25.382977Z"
    }
   },
   "outputs": [],
   "source": [
    "while True:\n",
    "    try:\n",
    "        with open('./f/pk.pem', 'r') as f:\n",
    "            pk = RSA.import_key(f.read())\n",
    "        break\n",
    "    except FileNotFoundError:\n",
    "        time.sleep(5)"
   ]
  },
  {
   "cell_type": "code",
   "execution_count": 5,
   "metadata": {
    "ExecuteTime": {
     "end_time": "2020-07-25T12:40:25.471924Z",
     "start_time": "2020-07-25T12:40:25.461931Z"
    }
   },
   "outputs": [],
   "source": [
    "random_size = 128\n",
    "while True:\n",
    "    r = int(np.sum(np.array([2**i for i in range(random_size)])*np.random.randint(0, 2, random_size)))\n",
    "    if math.gcd(pk.n, r) == 1:\n",
    "        break\n",
    "        \n",
    "r_ = egcd(r, pk.n)[1]"
   ]
  },
  {
   "cell_type": "code",
   "execution_count": 6,
   "metadata": {
    "ExecuteTime": {
     "end_time": "2020-07-25T12:40:25.484921Z",
     "start_time": "2020-07-25T12:40:25.475924Z"
    }
   },
   "outputs": [],
   "source": [
    "re = pow(r, pk.e, pk.n)\n",
    "#re = pow(r, pk.e, pk.n)\n",
    "ya = [re * HASH(i) % pk.n for i in xa]"
   ]
  },
  {
   "cell_type": "code",
   "execution_count": 7,
   "metadata": {
    "ExecuteTime": {
     "end_time": "2020-07-25T12:40:25.496913Z",
     "start_time": "2020-07-25T12:40:25.488914Z"
    }
   },
   "outputs": [],
   "source": [
    "with open('./f/ya.pickle', 'wb') as f:\n",
    "    pickle.dump(ya, f)"
   ]
  },
  {
   "cell_type": "markdown",
   "metadata": {},
   "source": [
    "转B2"
   ]
  },
  {
   "cell_type": "markdown",
   "metadata": {},
   "source": [
    "# 计算DA并求I"
   ]
  },
  {
   "cell_type": "code",
   "execution_count": 8,
   "metadata": {
    "ExecuteTime": {
     "end_time": "2020-07-25T12:40:30.530830Z",
     "start_time": "2020-07-25T12:40:25.502907Z"
    }
   },
   "outputs": [],
   "source": [
    "while True:\n",
    "    try:\n",
    "        with open('./f/za.pickle', 'rb') as f:\n",
    "            za = pickle.load(f)\n",
    "\n",
    "        with open('./f/db.pickle', 'rb') as f:\n",
    "            db = pickle.load(f)\n",
    "        break\n",
    "    except FileNotFoundError:\n",
    "        time.sleep(5)"
   ]
  },
  {
   "cell_type": "code",
   "execution_count": 9,
   "metadata": {
    "ExecuteTime": {
     "end_time": "2020-07-25T12:40:30.547806Z",
     "start_time": "2020-07-25T12:40:30.534813Z"
    }
   },
   "outputs": [],
   "source": [
    "da = [HASH(i * r_ % pk.n) for i in za]\n",
    "I = list(set(da).intersection(set(db)))"
   ]
  },
  {
   "cell_type": "code",
   "execution_count": 10,
   "metadata": {
    "ExecuteTime": {
     "end_time": "2020-07-25T12:40:30.577796Z",
     "start_time": "2020-07-25T12:40:30.554801Z"
    }
   },
   "outputs": [],
   "source": [
    "with open('./f/I.pickle', 'wb') as f:\n",
    "    pickle.dump(I, f)"
   ]
  },
  {
   "cell_type": "markdown",
   "metadata": {},
   "source": [
    "转B3"
   ]
  },
  {
   "cell_type": "markdown",
   "metadata": {},
   "source": [
    "# 获取共用用户"
   ]
  },
  {
   "cell_type": "code",
   "execution_count": 11,
   "metadata": {
    "ExecuteTime": {
     "end_time": "2020-07-25T12:40:35.599231Z",
     "start_time": "2020-07-25T12:40:30.589781Z"
    }
   },
   "outputs": [],
   "source": [
    "while True:\n",
    "    try:\n",
    "        with open('./f/iu.pickle', 'rb') as f:\n",
    "            iu = pickle.load(f)\n",
    "            \n",
    "        break\n",
    "    except FileNotFoundError:\n",
    "        time.sleep(5)"
   ]
  },
  {
   "cell_type": "code",
   "execution_count": 12,
   "metadata": {
    "ExecuteTime": {
     "end_time": "2020-07-25T12:40:35.633229Z",
     "start_time": "2020-07-25T12:40:35.604230Z"
    }
   },
   "outputs": [
    {
     "data": {
      "text/plain": [
       "array([1, 2, 5, 7], dtype=int64)"
      ]
     },
     "execution_count": 12,
     "metadata": {},
     "output_type": "execute_result"
    }
   ],
   "source": [
    "iu"
   ]
  },
  {
   "cell_type": "code",
   "execution_count": null,
   "metadata": {},
   "outputs": [],
   "source": []
  }
 ],
 "metadata": {
  "hide_input": false,
  "kernelspec": {
   "display_name": "Python 3",
   "language": "python",
   "name": "python3"
  },
  "language_info": {
   "codemirror_mode": {
    "name": "ipython",
    "version": 3
   },
   "file_extension": ".py",
   "mimetype": "text/x-python",
   "name": "python",
   "nbconvert_exporter": "python",
   "pygments_lexer": "ipython3",
   "version": "3.8.2"
  },
  "latex_envs": {
   "LaTeX_envs_menu_present": true,
   "autoclose": false,
   "autocomplete": true,
   "bibliofile": "biblio.bib",
   "cite_by": "apalike",
   "current_citInitial": 1,
   "eqLabelWithNumbers": true,
   "eqNumInitial": 1,
   "hotkeys": {
    "equation": "Ctrl-E",
    "itemize": "Ctrl-I"
   },
   "labels_anchors": false,
   "latex_user_defs": false,
   "report_style_numbering": false,
   "user_envs_cfg": false
  },
  "toc": {
   "base_numbering": 1,
   "nav_menu": {},
   "number_sections": true,
   "sideBar": true,
   "skip_h1_title": false,
   "title_cell": "Table of Contents",
   "title_sidebar": "Contents",
   "toc_cell": true,
   "toc_position": {},
   "toc_section_display": true,
   "toc_window_display": false
  }
 },
 "nbformat": 4,
 "nbformat_minor": 2
}
