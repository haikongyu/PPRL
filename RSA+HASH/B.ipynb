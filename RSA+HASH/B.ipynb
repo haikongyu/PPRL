{
 "cells": [
  {
   "cell_type": "markdown",
   "metadata": {
    "toc": true
   },
   "source": [
    "<h1>Table of Contents<span class=\"tocSkip\"></span></h1>\n",
    "<div class=\"toc\"><ul class=\"toc-item\"><li><span><a href=\"#B方生成钥对，并分发公钥\" data-toc-modified-id=\"B方生成钥对，并分发公钥-1\"><span class=\"toc-item-num\">1&nbsp;&nbsp;</span>B方生成钥对，并分发公钥</a></span></li><li><span><a href=\"#生成ZA，DB\" data-toc-modified-id=\"生成ZA，DB-2\"><span class=\"toc-item-num\">2&nbsp;&nbsp;</span>生成ZA，DB</a></span></li><li><span><a href=\"#获取共有用户\" data-toc-modified-id=\"获取共有用户-3\"><span class=\"toc-item-num\">3&nbsp;&nbsp;</span>获取共有用户</a></span></li></ul></div>"
   ]
  },
  {
   "cell_type": "code",
   "execution_count": 1,
   "metadata": {
    "ExecuteTime": {
     "end_time": "2020-07-25T12:40:19.944306Z",
     "start_time": "2020-07-25T12:40:19.002849Z"
    }
   },
   "outputs": [],
   "source": [
    "import pandas as pd\n",
    "import numpy as np\n",
    "from Crypto.PublicKey import RSA\n",
    "import pandas as pd\n",
    "import pickle \n",
    "import time\n",
    "from Crypto.Hash import SHA256"
   ]
  },
  {
   "cell_type": "code",
   "execution_count": 2,
   "metadata": {
    "ExecuteTime": {
     "end_time": "2020-07-25T12:40:19.954301Z",
     "start_time": "2020-07-25T12:40:19.948303Z"
    }
   },
   "outputs": [],
   "source": [
    "def HASH(x):\n",
    "    return int(SHA256.new(('{}'.format(x)).encode()).hexdigest(), 16)"
   ]
  },
  {
   "cell_type": "markdown",
   "metadata": {},
   "source": [
    "# B方生成钥对，并分发公钥"
   ]
  },
  {
   "cell_type": "code",
   "execution_count": 3,
   "metadata": {
    "ExecuteTime": {
     "end_time": "2020-07-25T12:40:20.263157Z",
     "start_time": "2020-07-25T12:40:19.958299Z"
    }
   },
   "outputs": [],
   "source": [
    "key = RSA.generate(1024)\n",
    "pk = key.publickey()\n",
    "\n",
    "with open('./f/sk.pem', 'wb') as f:\n",
    "    f.write(key.export_key(\"PEM\"))\n",
    "\n",
    "with open('./f/pk.pem', 'wb') as f:\n",
    "    f.write(pk.export_key(\"PEM\"))"
   ]
  },
  {
   "cell_type": "markdown",
   "metadata": {},
   "source": [
    "转A1"
   ]
  },
  {
   "cell_type": "markdown",
   "metadata": {},
   "source": [
    "# 生成ZA，DB"
   ]
  },
  {
   "cell_type": "code",
   "execution_count": 4,
   "metadata": {
    "ExecuteTime": {
     "end_time": "2020-07-25T12:40:30.288361Z",
     "start_time": "2020-07-25T12:40:20.267120Z"
    }
   },
   "outputs": [],
   "source": [
    "while True:\n",
    "    try:\n",
    "        with open('./f/ya.pickle', 'rb') as f:\n",
    "            ya = pickle.load(f)\n",
    "        break\n",
    "    except FileNotFoundError:\n",
    "        time.sleep(5)"
   ]
  },
  {
   "cell_type": "code",
   "execution_count": 5,
   "metadata": {
    "ExecuteTime": {
     "end_time": "2020-07-25T12:40:30.371220Z",
     "start_time": "2020-07-25T12:40:30.296266Z"
    }
   },
   "outputs": [],
   "source": [
    "za = [pow(i, key.d, key.n) for i in ya]\n",
    "xb = pd.read_csv('./data/xb.csv')\n",
    "xb = np.array(xb).T[0]"
   ]
  },
  {
   "cell_type": "code",
   "execution_count": 6,
   "metadata": {
    "ExecuteTime": {
     "end_time": "2020-07-25T12:40:30.436184Z",
     "start_time": "2020-07-25T12:40:30.374220Z"
    }
   },
   "outputs": [],
   "source": [
    "db = [HASH(pow(HASH(i), key.d, key.n)) for i in xb]"
   ]
  },
  {
   "cell_type": "code",
   "execution_count": 7,
   "metadata": {
    "ExecuteTime": {
     "end_time": "2020-07-25T12:40:30.453174Z",
     "start_time": "2020-07-25T12:40:30.440184Z"
    }
   },
   "outputs": [],
   "source": [
    "with open('./f/za.pickle', 'wb') as f:\n",
    "    pickle.dump(za, f)\n",
    "\n",
    "with open('./f/db.pickle', 'wb') as f:\n",
    "    pickle.dump(db, f)"
   ]
  },
  {
   "cell_type": "markdown",
   "metadata": {},
   "source": [
    "转A2"
   ]
  },
  {
   "cell_type": "markdown",
   "metadata": {},
   "source": [
    "# 获取共有用户"
   ]
  },
  {
   "cell_type": "code",
   "execution_count": 8,
   "metadata": {
    "ExecuteTime": {
     "end_time": "2020-07-25T12:40:35.485349Z",
     "start_time": "2020-07-25T12:40:30.460171Z"
    }
   },
   "outputs": [],
   "source": [
    "while True:\n",
    "    try:\n",
    "        with open('./f/I.pickle', 'rb') as f:\n",
    "            I = pickle.load(f)\n",
    "        break\n",
    "    except FileNotFoundError:\n",
    "        time.sleep(5)"
   ]
  },
  {
   "cell_type": "code",
   "execution_count": 9,
   "metadata": {
    "ExecuteTime": {
     "end_time": "2020-07-25T12:40:35.541279Z",
     "start_time": "2020-07-25T12:40:35.493293Z"
    }
   },
   "outputs": [
    {
     "data": {
      "text/plain": [
       "array([1, 2, 5, 7], dtype=int64)"
      ]
     },
     "execution_count": 9,
     "metadata": {},
     "output_type": "execute_result"
    }
   ],
   "source": [
    "iu_ = [index for index, val in enumerate(db) if val in I]\n",
    "iu = xb[iu_]\n",
    "iu"
   ]
  },
  {
   "cell_type": "code",
   "execution_count": 10,
   "metadata": {
    "ExecuteTime": {
     "end_time": "2020-07-25T12:40:35.561254Z",
     "start_time": "2020-07-25T12:40:35.552260Z"
    }
   },
   "outputs": [],
   "source": [
    "with open('./f/iu.pickle', 'wb') as f:\n",
    "    pickle.dump(iu, f)"
   ]
  },
  {
   "cell_type": "markdown",
   "metadata": {},
   "source": [
    "转A3"
   ]
  },
  {
   "cell_type": "code",
   "execution_count": null,
   "metadata": {},
   "outputs": [],
   "source": []
  }
 ],
 "metadata": {
  "hide_input": false,
  "kernelspec": {
   "display_name": "Python 3",
   "language": "python",
   "name": "python3"
  },
  "language_info": {
   "codemirror_mode": {
    "name": "ipython",
    "version": 3
   },
   "file_extension": ".py",
   "mimetype": "text/x-python",
   "name": "python",
   "nbconvert_exporter": "python",
   "pygments_lexer": "ipython3",
   "version": "3.8.2"
  },
  "latex_envs": {
   "LaTeX_envs_menu_present": true,
   "autoclose": false,
   "autocomplete": true,
   "bibliofile": "biblio.bib",
   "cite_by": "apalike",
   "current_citInitial": 1,
   "eqLabelWithNumbers": true,
   "eqNumInitial": 1,
   "hotkeys": {
    "equation": "Ctrl-E",
    "itemize": "Ctrl-I"
   },
   "labels_anchors": false,
   "latex_user_defs": false,
   "report_style_numbering": false,
   "user_envs_cfg": false
  },
  "toc": {
   "base_numbering": 1,
   "nav_menu": {},
   "number_sections": true,
   "sideBar": true,
   "skip_h1_title": false,
   "title_cell": "Table of Contents",
   "title_sidebar": "Contents",
   "toc_cell": true,
   "toc_position": {},
   "toc_section_display": true,
   "toc_window_display": false
  }
 },
 "nbformat": 4,
 "nbformat_minor": 2
}
